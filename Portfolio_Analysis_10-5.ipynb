{
 "cells": [
  {
   "cell_type": "code",
   "execution_count": 1,
   "id": "00d48441",
   "metadata": {},
   "outputs": [],
   "source": [
    "import yfinance as yf\n",
    "import pandas as pd\n",
    "import math\n",
    "import seaborn as sns\n",
    "import matplotlib.pyplot as plt"
   ]
  },
  {
   "cell_type": "code",
   "execution_count": 2,
   "id": "52492667",
   "metadata": {},
   "outputs": [
    {
     "name": "stdout",
     "output_type": "stream",
     "text": [
      "[*********************100%%**********************]  10 of 10 completed\n",
      "[*********************100%%**********************]  10 of 10 completed\n",
      "[*********************100%%**********************]  10 of 10 completed\n"
     ]
    }
   ],
   "source": [
    "# Tickers\n",
    "tickers = [\"NVDA\", \"META\", \"AMZN\",\"NFLX\" ,\"TSLA\",\"GME\", \"NOK\"]\n",
    "etfs = [\"SPY\", \"IWM\", \"DIA\"]\n",
    "\n",
    "\n",
    "class DataDownloader:\n",
    "    \"\"\"\n",
    "     Using class to fetch historical stock and ETF data.\n",
    "    \n",
    "    Attributes:\n",
    "    - tickers: A list of stock tickers.\n",
    "    - etfs: A list of ETF tickers.\n",
    "    \n",
    "    Methods:\n",
    "    - download(period): Downloads historical data for the given period. Combines tickers and etfs.\n",
    "    - quarterly(): Downloads data for the past 3 months.\n",
    "    - annual(): Downloads data for the past year.\n",
    "    - decade(): Downloads data for the past 10 years.\n",
    "    \n",
    "    \"\"\"\n",
    "    def __init__(self, tickers, etfs):\n",
    "        self.tickers = tickers\n",
    "        self.etfs = etfs\n",
    "\n",
    "    def download(self, period='1y'):\n",
    "        return yf.download(self.tickers + self.etfs, period=period)\n",
    "\n",
    "    def quarterly(self):\n",
    "        return self.download(period='3mo')\n",
    "\n",
    "    def annual(self):\n",
    "        return self.download(period='1y')\n",
    "    \n",
    "    def decade(self):\n",
    "        return self.download(period='10y')\n",
    "    \n",
    "\n",
    "\"\"\"\n",
    "After defining the class, an instance of the DataDownloader is created using the provided tickers and ETFs. \n",
    "The historical data for the tickers and ETFs is then fetched for the three time periods and stored in \n",
    "quarterly_data, annual_data, and decade_data.\n",
    "\"\"\"\n",
    "downloader = DataDownloader(tickers, etfs)\n",
    "# Usage Guide:\n",
    "quarterly_data = downloader.quarterly()\n",
    "annual_data = downloader.annual()\n",
    "decade_data = downloader.decade()\n",
    "data = (quarterly_data['Adj Close'].dropna(),\n",
    "        annual_data['Adj Close'].dropna(),\n",
    "        decade_data['Adj Close'].dropna(),\n",
    "        quarterly_data.dropna(),\n",
    "        annual_data.dropna(),\n",
    "        decade_data.dropna())\n"
   ]
  },
  {
   "cell_type": "code",
   "execution_count": 3,
   "id": "bb29c8c1",
   "metadata": {},
   "outputs": [
    {
     "data": {
      "text/plain": [
       "'for key in range(0,3):\\n    print (data[key].info())'"
      ]
     },
     "execution_count": 3,
     "metadata": {},
     "output_type": "execute_result"
    }
   ],
   "source": [
    "\"\"\"for key in range(0,3):\n",
    "    print (data[key].info())\"\"\""
   ]
  },
  {
   "cell_type": "code",
   "execution_count": 4,
   "id": "5cf3d066",
   "metadata": {},
   "outputs": [],
   "source": [
    "def trading_days(key):\n",
    "    return len(data[key])"
   ]
  },
  {
   "cell_type": "markdown",
   "id": "4cdaeb69",
   "metadata": {},
   "source": [
    "### Defining functions to calculate various financial metrics:\n",
    "\n",
    "1. calculate_annualized_volatility(data): Calculates the annualized volatility for a given stock using its daily returns.\n",
    "2. calculate_beta(ticker,etf): Computes the beta value of a stock relative to a specified ETF, using daily returns.\n"
   ]
  },
  {
   "cell_type": "markdown",
   "id": "45bed10a",
   "metadata": {},
   "source": [
    "## Creating columns"
   ]
  },
  {
   "cell_type": "code",
   "execution_count": 5,
   "id": "0ad48330",
   "metadata": {},
   "outputs": [],
   "source": [
    "# Create table and Calculate weights\n",
    "part_one = pd.DataFrame(index=tickers)\n",
    "part_one['Weight'] = str(round(1/7 * 100, 2)) + \"%\""
   ]
  },
  {
   "cell_type": "code",
   "execution_count": 6,
   "id": "0ab810fe",
   "metadata": {},
   "outputs": [],
   "source": [
    "# Calculate annualized volatility\n",
    "returns = data[0].pct_change().dropna()\n",
    "def calc_ann_vol(data):\n",
    "    std_dev = returns.std()\n",
    "    return std_dev * math.sqrt(trading_days(0)) * 100\n",
    "\n",
    "ann_vol = calc_ann_vol(data[0][tickers])\n",
    "part_one['Annualized Volatility'] = ann_vol.round(2)"
   ]
  },
  {
   "cell_type": "code",
   "execution_count": 7,
   "id": "c8512872",
   "metadata": {},
   "outputs": [],
   "source": [
    "#Calculate beta\n",
    "def calc_beta(ticker, etf):\n",
    "    covariance = returns[ticker].cov(returns[etf])\n",
    "    variance = returns[etf].var()\n",
    "    return str(round(covariance / variance,2))\n",
    "\n",
    "for etf in etfs:\n",
    "    part_one[f'Beta against {etf}'] = [calc_beta(ticker, etf) for ticker in tickers]"
   ]
  },
  {
   "cell_type": "code",
   "execution_count": 8,
   "id": "27691074",
   "metadata": {},
   "outputs": [],
   "source": [
    "#Calculate average and maximum weekly drawdown\n",
    "highs = data[4]['High'][tickers].pct_change().dropna()\n",
    "lows = data[4]['Low'][tickers].pct_change().dropna()\n",
    "part_one['Average Weekly Drawdown'] = (((lows.mean() - highs.mean()) / highs.mean()) * 100).round(2)\n",
    "part_one['Maximum Weekly Drawdown'] = (((lows.min() - highs.max()) / highs.max()) * 100).round(2)\n",
    "\n",
    "#Calculate total return and annualized total return\n",
    "initial_values = data[2][tickers].dropna().iloc[0]\n",
    "current_values = data[2][tickers].iloc[-1]\n",
    "part_one['Total Return'] = (((current_values - initial_values) / initial_values) * 100).round(2)\n",
    "part_one['Annualized Total Return'] = ((((current_values / initial_values) ** (1/10)) - 1) * 100).round(2)"
   ]
  },
  {
   "cell_type": "markdown",
   "id": "3a3b0723",
   "metadata": {},
   "source": [
    "# Part One Complete"
   ]
  },
  {
   "cell_type": "code",
   "execution_count": 9,
   "id": "b66ad485",
   "metadata": {},
   "outputs": [
    {
     "data": {
      "text/html": [
       "<div>\n",
       "<style scoped>\n",
       "    .dataframe tbody tr th:only-of-type {\n",
       "        vertical-align: middle;\n",
       "    }\n",
       "\n",
       "    .dataframe tbody tr th {\n",
       "        vertical-align: top;\n",
       "    }\n",
       "\n",
       "    .dataframe thead th {\n",
       "        text-align: right;\n",
       "    }\n",
       "</style>\n",
       "<table border=\"1\" class=\"dataframe\">\n",
       "  <thead>\n",
       "    <tr style=\"text-align: right;\">\n",
       "      <th></th>\n",
       "      <th>Weight</th>\n",
       "      <th>Annualized Volatility</th>\n",
       "      <th>Beta against SPY</th>\n",
       "      <th>Beta against IWM</th>\n",
       "      <th>Beta against DIA</th>\n",
       "      <th>Average Weekly Drawdown</th>\n",
       "      <th>Maximum Weekly Drawdown</th>\n",
       "      <th>Total Return</th>\n",
       "      <th>Annualized Total Return</th>\n",
       "    </tr>\n",
       "  </thead>\n",
       "  <tbody>\n",
       "    <tr>\n",
       "      <th>NVDA</th>\n",
       "      <td>14.29%</td>\n",
       "      <td>20.10</td>\n",
       "      <td>2.18</td>\n",
       "      <td>1.01</td>\n",
       "      <td>1.31</td>\n",
       "      <td>0.36</td>\n",
       "      <td>-128.46</td>\n",
       "      <td>12117.99</td>\n",
       "      <td>61.70</td>\n",
       "    </tr>\n",
       "    <tr>\n",
       "      <th>META</th>\n",
       "      <td>14.29%</td>\n",
       "      <td>15.34</td>\n",
       "      <td>1.83</td>\n",
       "      <td>0.91</td>\n",
       "      <td>1.46</td>\n",
       "      <td>0.11</td>\n",
       "      <td>-188.15</td>\n",
       "      <td>503.31</td>\n",
       "      <td>19.69</td>\n",
       "    </tr>\n",
       "    <tr>\n",
       "      <th>AMZN</th>\n",
       "      <td>14.29%</td>\n",
       "      <td>16.56</td>\n",
       "      <td>1.8</td>\n",
       "      <td>0.86</td>\n",
       "      <td>1.41</td>\n",
       "      <td>-0.82</td>\n",
       "      <td>-203.87</td>\n",
       "      <td>712.57</td>\n",
       "      <td>23.31</td>\n",
       "    </tr>\n",
       "    <tr>\n",
       "      <th>NFLX</th>\n",
       "      <td>14.29%</td>\n",
       "      <td>17.25</td>\n",
       "      <td>1.74</td>\n",
       "      <td>1.14</td>\n",
       "      <td>1.41</td>\n",
       "      <td>1.80</td>\n",
       "      <td>-176.71</td>\n",
       "      <td>719.75</td>\n",
       "      <td>23.42</td>\n",
       "    </tr>\n",
       "    <tr>\n",
       "      <th>TSLA</th>\n",
       "      <td>14.29%</td>\n",
       "      <td>25.28</td>\n",
       "      <td>2.63</td>\n",
       "      <td>1.06</td>\n",
       "      <td>1.72</td>\n",
       "      <td>16.93</td>\n",
       "      <td>-205.75</td>\n",
       "      <td>2030.74</td>\n",
       "      <td>35.79</td>\n",
       "    </tr>\n",
       "    <tr>\n",
       "      <th>GME</th>\n",
       "      <td>14.29%</td>\n",
       "      <td>21.54</td>\n",
       "      <td>1.72</td>\n",
       "      <td>1.28</td>\n",
       "      <td>2.29</td>\n",
       "      <td>23.21</td>\n",
       "      <td>-142.06</td>\n",
       "      <td>65.68</td>\n",
       "      <td>5.18</td>\n",
       "    </tr>\n",
       "    <tr>\n",
       "      <th>NOK</th>\n",
       "      <td>14.29%</td>\n",
       "      <td>12.72</td>\n",
       "      <td>0.92</td>\n",
       "      <td>0.68</td>\n",
       "      <td>0.82</td>\n",
       "      <td>5.09</td>\n",
       "      <td>-319.96</td>\n",
       "      <td>-29.60</td>\n",
       "      <td>-3.45</td>\n",
       "    </tr>\n",
       "  </tbody>\n",
       "</table>\n",
       "</div>"
      ],
      "text/plain": [
       "      Weight  Annualized Volatility Beta against SPY Beta against IWM  \\\n",
       "NVDA  14.29%                  20.10             2.18             1.01   \n",
       "META  14.29%                  15.34             1.83             0.91   \n",
       "AMZN  14.29%                  16.56              1.8             0.86   \n",
       "NFLX  14.29%                  17.25             1.74             1.14   \n",
       "TSLA  14.29%                  25.28             2.63             1.06   \n",
       "GME   14.29%                  21.54             1.72             1.28   \n",
       "NOK   14.29%                  12.72             0.92             0.68   \n",
       "\n",
       "     Beta against DIA  Average Weekly Drawdown  Maximum Weekly Drawdown  \\\n",
       "NVDA             1.31                     0.36                  -128.46   \n",
       "META             1.46                     0.11                  -188.15   \n",
       "AMZN             1.41                    -0.82                  -203.87   \n",
       "NFLX             1.41                     1.80                  -176.71   \n",
       "TSLA             1.72                    16.93                  -205.75   \n",
       "GME              2.29                    23.21                  -142.06   \n",
       "NOK              0.82                     5.09                  -319.96   \n",
       "\n",
       "      Total Return  Annualized Total Return  \n",
       "NVDA      12117.99                    61.70  \n",
       "META        503.31                    19.69  \n",
       "AMZN        712.57                    23.31  \n",
       "NFLX        719.75                    23.42  \n",
       "TSLA       2030.74                    35.79  \n",
       "GME          65.68                     5.18  \n",
       "NOK         -29.60                    -3.45  "
      ]
     },
     "execution_count": 9,
     "metadata": {},
     "output_type": "execute_result"
    }
   ],
   "source": [
    "part_one"
   ]
  },
  {
   "cell_type": "markdown",
   "id": "f4f2746f",
   "metadata": {},
   "source": [
    "# Part Two\n",
    "\n",
    "### Defining functions to calculate various financial metrics:\n",
    "\n",
    "1. Portfolio correlation with each ETF.\n",
    "2. Portfolio covariance with each ETF.\n",
    "3. Tracking error for each ETF over a specified period.\n",
    "4. Sharpe ratio for each ETF.\n",
    "5. Annualized volatility spread between the portfolio and each ETF.\n"
   ]
  },
  {
   "cell_type": "markdown",
   "id": "2edadbad",
   "metadata": {},
   "source": [
    "## Create table"
   ]
  },
  {
   "cell_type": "code",
   "execution_count": 10,
   "id": "908f2eab",
   "metadata": {},
   "outputs": [],
   "source": [
    "#0: Create table\n",
    "part_two = pd.DataFrame(index=etfs)\n"
   ]
  },
  {
   "cell_type": "code",
   "execution_count": 11,
   "id": "5d1d4133",
   "metadata": {},
   "outputs": [
    {
     "data": {
      "text/html": [
       "<div>\n",
       "<style scoped>\n",
       "    .dataframe tbody tr th:only-of-type {\n",
       "        vertical-align: middle;\n",
       "    }\n",
       "\n",
       "    .dataframe tbody tr th {\n",
       "        vertical-align: top;\n",
       "    }\n",
       "\n",
       "    .dataframe thead th {\n",
       "        text-align: right;\n",
       "    }\n",
       "</style>\n",
       "<table border=\"1\" class=\"dataframe\">\n",
       "  <thead>\n",
       "    <tr style=\"text-align: right;\">\n",
       "      <th></th>\n",
       "      <th>Correlation against Portfolio</th>\n",
       "    </tr>\n",
       "  </thead>\n",
       "  <tbody>\n",
       "    <tr>\n",
       "      <th>SPY</th>\n",
       "      <td>0.808413</td>\n",
       "    </tr>\n",
       "    <tr>\n",
       "      <th>IWM</th>\n",
       "      <td>0.704067</td>\n",
       "    </tr>\n",
       "    <tr>\n",
       "      <th>DIA</th>\n",
       "      <td>0.614459</td>\n",
       "    </tr>\n",
       "  </tbody>\n",
       "</table>\n",
       "</div>"
      ],
      "text/plain": [
       "     Correlation against Portfolio \n",
       "SPY                        0.808413\n",
       "IWM                        0.704067\n",
       "DIA                        0.614459"
      ]
     },
     "execution_count": 11,
     "metadata": {},
     "output_type": "execute_result"
    }
   ],
   "source": [
    "#Correlations \n",
    "correlations = []\n",
    "for etf in etfs:\n",
    "    correlations.append(data[1][etf].pct_change().dropna().corr(data[1][tickers].pct_change().dropna().sum(axis=1)))\n",
    "    \n",
    "part_two['Correlation against Portfolio '] = correlations\n",
    "part_two"
   ]
  },
  {
   "cell_type": "code",
   "execution_count": 12,
   "id": "c7b2a0fe",
   "metadata": {},
   "outputs": [
    {
     "data": {
      "text/html": [
       "<div>\n",
       "<style scoped>\n",
       "    .dataframe tbody tr th:only-of-type {\n",
       "        vertical-align: middle;\n",
       "    }\n",
       "\n",
       "    .dataframe tbody tr th {\n",
       "        vertical-align: top;\n",
       "    }\n",
       "\n",
       "    .dataframe thead th {\n",
       "        text-align: right;\n",
       "    }\n",
       "</style>\n",
       "<table border=\"1\" class=\"dataframe\">\n",
       "  <thead>\n",
       "    <tr style=\"text-align: right;\">\n",
       "      <th></th>\n",
       "      <th>Correlation against Portfolio</th>\n",
       "      <th>Covariance against ETF</th>\n",
       "    </tr>\n",
       "  </thead>\n",
       "  <tbody>\n",
       "    <tr>\n",
       "      <th>SPY</th>\n",
       "      <td>0.808413</td>\n",
       "      <td>0.126488</td>\n",
       "    </tr>\n",
       "    <tr>\n",
       "      <th>IWM</th>\n",
       "      <td>0.704067</td>\n",
       "      <td>0.139744</td>\n",
       "    </tr>\n",
       "    <tr>\n",
       "      <th>DIA</th>\n",
       "      <td>0.614459</td>\n",
       "      <td>0.080318</td>\n",
       "    </tr>\n",
       "  </tbody>\n",
       "</table>\n",
       "</div>"
      ],
      "text/plain": [
       "     Correlation against Portfolio   Covariance against ETF\n",
       "SPY                        0.808413                0.126488\n",
       "IWM                        0.704067                0.139744\n",
       "DIA                        0.614459                0.080318"
      ]
     },
     "execution_count": 12,
     "metadata": {},
     "output_type": "execute_result"
    }
   ],
   "source": [
    "#Covariances\n",
    "portfolio_returns = data[1][tickers].pct_change().dropna().sum(axis=1)\n",
    "covariations = []\n",
    "for etf in etfs:\n",
    "    etf_returns = data[1][etf].pct_change().dropna()\n",
    "    covariations.append(etf_returns.cov(portfolio_returns) * 100)\n",
    "    \n",
    "part_two['Covariance against ETF'] = covariations\n",
    "part_two"
   ]
  },
  {
   "cell_type": "code",
   "execution_count": 13,
   "id": "94c99c6b",
   "metadata": {},
   "outputs": [
    {
     "data": {
      "text/html": [
       "<div>\n",
       "<style scoped>\n",
       "    .dataframe tbody tr th:only-of-type {\n",
       "        vertical-align: middle;\n",
       "    }\n",
       "\n",
       "    .dataframe tbody tr th {\n",
       "        vertical-align: top;\n",
       "    }\n",
       "\n",
       "    .dataframe thead th {\n",
       "        text-align: right;\n",
       "    }\n",
       "</style>\n",
       "<table border=\"1\" class=\"dataframe\">\n",
       "  <thead>\n",
       "    <tr style=\"text-align: right;\">\n",
       "      <th></th>\n",
       "      <th>Correlation against Portfolio</th>\n",
       "      <th>Covariance against ETF</th>\n",
       "      <th>Tracking Errors</th>\n",
       "    </tr>\n",
       "  </thead>\n",
       "  <tbody>\n",
       "    <tr>\n",
       "      <th>SPY</th>\n",
       "      <td>0.808413</td>\n",
       "      <td>0.126488</td>\n",
       "      <td>261.37</td>\n",
       "    </tr>\n",
       "    <tr>\n",
       "      <th>IWM</th>\n",
       "      <td>0.704067</td>\n",
       "      <td>0.139744</td>\n",
       "      <td>259.63</td>\n",
       "    </tr>\n",
       "    <tr>\n",
       "      <th>DIA</th>\n",
       "      <td>0.614459</td>\n",
       "      <td>0.080318</td>\n",
       "      <td>266.14</td>\n",
       "    </tr>\n",
       "  </tbody>\n",
       "</table>\n",
       "</div>"
      ],
      "text/plain": [
       "     Correlation against Portfolio   Covariance against ETF  Tracking Errors\n",
       "SPY                        0.808413                0.126488           261.37\n",
       "IWM                        0.704067                0.139744           259.63\n",
       "DIA                        0.614459                0.080318           266.14"
      ]
     },
     "execution_count": 13,
     "metadata": {},
     "output_type": "execute_result"
    }
   ],
   "source": [
    "#Tracking Errrors\n",
    "errors = []\n",
    "for etf in etfs:\n",
    "    all_returns = data[1].pct_change().sum(axis=1)\n",
    "    te = all_returns - data[1][etf].pct_change()\n",
    "    tracking_error = (te.std() * 100) * math.sqrt(len(data[1]))\n",
    "    errors.append(round(tracking_error, 2))\n",
    "part_two['Tracking Errors'] = errors\n",
    "part_two"
   ]
  },
  {
   "cell_type": "code",
   "execution_count": 14,
   "id": "b84df500",
   "metadata": {},
   "outputs": [
    {
     "data": {
      "text/html": [
       "<div>\n",
       "<style scoped>\n",
       "    .dataframe tbody tr th:only-of-type {\n",
       "        vertical-align: middle;\n",
       "    }\n",
       "\n",
       "    .dataframe tbody tr th {\n",
       "        vertical-align: top;\n",
       "    }\n",
       "\n",
       "    .dataframe thead th {\n",
       "        text-align: right;\n",
       "    }\n",
       "</style>\n",
       "<table border=\"1\" class=\"dataframe\">\n",
       "  <thead>\n",
       "    <tr style=\"text-align: right;\">\n",
       "      <th></th>\n",
       "      <th>Correlation against Portfolio</th>\n",
       "      <th>Covariance against ETF</th>\n",
       "      <th>Tracking Errors</th>\n",
       "      <th>Sharpe Ratio</th>\n",
       "    </tr>\n",
       "  </thead>\n",
       "  <tbody>\n",
       "    <tr>\n",
       "      <th>SPY</th>\n",
       "      <td>0.808413</td>\n",
       "      <td>0.126488</td>\n",
       "      <td>261.37</td>\n",
       "      <td>7.03</td>\n",
       "    </tr>\n",
       "    <tr>\n",
       "      <th>IWM</th>\n",
       "      <td>0.704067</td>\n",
       "      <td>0.139744</td>\n",
       "      <td>259.63</td>\n",
       "      <td>7.03</td>\n",
       "    </tr>\n",
       "    <tr>\n",
       "      <th>DIA</th>\n",
       "      <td>0.614459</td>\n",
       "      <td>0.080318</td>\n",
       "      <td>266.14</td>\n",
       "      <td>7.03</td>\n",
       "    </tr>\n",
       "  </tbody>\n",
       "</table>\n",
       "</div>"
      ],
      "text/plain": [
       "     Correlation against Portfolio   Covariance against ETF  Tracking Errors  \\\n",
       "SPY                        0.808413                0.126488           261.37   \n",
       "IWM                        0.704067                0.139744           259.63   \n",
       "DIA                        0.614459                0.080318           266.14   \n",
       "\n",
       "     Sharpe Ratio  \n",
       "SPY          7.03  \n",
       "IWM          7.03  \n",
       "DIA          7.03  "
      ]
     },
     "execution_count": 14,
     "metadata": {},
     "output_type": "execute_result"
    }
   ],
   "source": [
    "# Sharpe Ratios\n",
    "ratios = []\n",
    "for etf in etfs:\n",
    "    returns_mean = all_returns.mean()\n",
    "    returns_stdev = all_returns.std()\n",
    "    ratio = (returns_mean / returns_stdev) * 100\n",
    "    ratios.append(round(ratio, 2))\n",
    "part_two['Sharpe Ratio'] = ratios\n",
    "part_two"
   ]
  },
  {
   "cell_type": "code",
   "execution_count": 15,
   "id": "21b057db",
   "metadata": {},
   "outputs": [
    {
     "data": {
      "text/html": [
       "<div>\n",
       "<style scoped>\n",
       "    .dataframe tbody tr th:only-of-type {\n",
       "        vertical-align: middle;\n",
       "    }\n",
       "\n",
       "    .dataframe tbody tr th {\n",
       "        vertical-align: top;\n",
       "    }\n",
       "\n",
       "    .dataframe thead th {\n",
       "        text-align: right;\n",
       "    }\n",
       "</style>\n",
       "<table border=\"1\" class=\"dataframe\">\n",
       "  <thead>\n",
       "    <tr style=\"text-align: right;\">\n",
       "      <th></th>\n",
       "      <th>Correlation against Portfolio</th>\n",
       "      <th>Covariance against ETF</th>\n",
       "      <th>Tracking Errors</th>\n",
       "      <th>Sharpe Ratio</th>\n",
       "      <th>Annualized Volatility Spread</th>\n",
       "    </tr>\n",
       "  </thead>\n",
       "  <tbody>\n",
       "    <tr>\n",
       "      <th>SPY</th>\n",
       "      <td>0.808413</td>\n",
       "      <td>0.126488</td>\n",
       "      <td>261.37</td>\n",
       "      <td>7.03</td>\n",
       "      <td>430843.55</td>\n",
       "    </tr>\n",
       "    <tr>\n",
       "      <th>IWM</th>\n",
       "      <td>0.704067</td>\n",
       "      <td>0.139744</td>\n",
       "      <td>259.63</td>\n",
       "      <td>7.03</td>\n",
       "      <td>460231.40</td>\n",
       "    </tr>\n",
       "    <tr>\n",
       "      <th>DIA</th>\n",
       "      <td>0.614459</td>\n",
       "      <td>0.080318</td>\n",
       "      <td>266.14</td>\n",
       "      <td>7.03</td>\n",
       "      <td>452175.40</td>\n",
       "    </tr>\n",
       "  </tbody>\n",
       "</table>\n",
       "</div>"
      ],
      "text/plain": [
       "     Correlation against Portfolio   Covariance against ETF  Tracking Errors  \\\n",
       "SPY                        0.808413                0.126488           261.37   \n",
       "IWM                        0.704067                0.139744           259.63   \n",
       "DIA                        0.614459                0.080318           266.14   \n",
       "\n",
       "     Sharpe Ratio  Annualized Volatility Spread  \n",
       "SPY          7.03                     430843.55  \n",
       "IWM          7.03                     460231.40  \n",
       "DIA          7.03                     452175.40  "
      ]
     },
     "execution_count": 15,
     "metadata": {},
     "output_type": "execute_result"
    }
   ],
   "source": [
    "#Annualized Volatility Spread\n",
    "spreads = []\n",
    "for etf in etfs:\n",
    "    port_voli = data[1][tickers].sum(axis=1).std() * math.sqrt(len(data[1]))\n",
    "    etf_voli = (data[1][etf].std()) * math.sqrt(len(data[1]))\n",
    "    spreads.append(round((port_voli - etf_voli) * 100, 2))\n",
    "part_two['Annualized Volatility Spread'] = spreads\n",
    "part_two"
   ]
  },
  {
   "cell_type": "markdown",
   "id": "edabb04e",
   "metadata": {},
   "source": [
    "## Part two complete"
   ]
  },
  {
   "cell_type": "code",
   "execution_count": 16,
   "id": "89b63ddf",
   "metadata": {},
   "outputs": [
    {
     "data": {
      "text/html": [
       "<div>\n",
       "<style scoped>\n",
       "    .dataframe tbody tr th:only-of-type {\n",
       "        vertical-align: middle;\n",
       "    }\n",
       "\n",
       "    .dataframe tbody tr th {\n",
       "        vertical-align: top;\n",
       "    }\n",
       "\n",
       "    .dataframe thead th {\n",
       "        text-align: right;\n",
       "    }\n",
       "</style>\n",
       "<table border=\"1\" class=\"dataframe\">\n",
       "  <thead>\n",
       "    <tr style=\"text-align: right;\">\n",
       "      <th></th>\n",
       "      <th>Correlation against Portfolio</th>\n",
       "      <th>Covariance against ETF</th>\n",
       "      <th>Tracking Errors</th>\n",
       "      <th>Sharpe Ratio</th>\n",
       "      <th>Annualized Volatility Spread</th>\n",
       "    </tr>\n",
       "  </thead>\n",
       "  <tbody>\n",
       "    <tr>\n",
       "      <th>SPY</th>\n",
       "      <td>0.808413</td>\n",
       "      <td>0.126488</td>\n",
       "      <td>261.37</td>\n",
       "      <td>7.03</td>\n",
       "      <td>430843.55</td>\n",
       "    </tr>\n",
       "    <tr>\n",
       "      <th>IWM</th>\n",
       "      <td>0.704067</td>\n",
       "      <td>0.139744</td>\n",
       "      <td>259.63</td>\n",
       "      <td>7.03</td>\n",
       "      <td>460231.40</td>\n",
       "    </tr>\n",
       "    <tr>\n",
       "      <th>DIA</th>\n",
       "      <td>0.614459</td>\n",
       "      <td>0.080318</td>\n",
       "      <td>266.14</td>\n",
       "      <td>7.03</td>\n",
       "      <td>452175.40</td>\n",
       "    </tr>\n",
       "  </tbody>\n",
       "</table>\n",
       "</div>"
      ],
      "text/plain": [
       "     Correlation against Portfolio   Covariance against ETF  Tracking Errors  \\\n",
       "SPY                        0.808413                0.126488           261.37   \n",
       "IWM                        0.704067                0.139744           259.63   \n",
       "DIA                        0.614459                0.080318           266.14   \n",
       "\n",
       "     Sharpe Ratio  Annualized Volatility Spread  \n",
       "SPY          7.03                     430843.55  \n",
       "IWM          7.03                     460231.40  \n",
       "DIA          7.03                     452175.40  "
      ]
     },
     "execution_count": 16,
     "metadata": {},
     "output_type": "execute_result"
    }
   ],
   "source": [
    "part_two"
   ]
  },
  {
   "cell_type": "markdown",
   "id": "c4e50b06",
   "metadata": {},
   "source": [
    "## Part three"
   ]
  },
  {
   "cell_type": "code",
   "execution_count": 17,
   "id": "8efb4d16",
   "metadata": {},
   "outputs": [],
   "source": [
    "#Create a new column in data of portfolio\n",
    "data[1]['Portfolio'] = data[1][tickers].sum(axis=1)"
   ]
  },
  {
   "cell_type": "code",
   "execution_count": 18,
   "id": "3cd920d2",
   "metadata": {},
   "outputs": [
    {
     "data": {
      "image/png": "[encoded data removed]",
      "text/plain": [
       "<Figure size 640x480 with 2 Axes>"
      ]
     },
     "metadata": {},
     "output_type": "display_data"
    }
   ],
   "source": [
    "import matplotlib.colors as mcolors\n",
    "\n",
    "# Part Three\n",
    "corr_matrix = data[1].corr(method=\"pearson\")\n",
    "\n",
    "# Create a custom sorting dictionary so tickers come first in their original order, then etfs, then portfolio.\n",
    "ticker_order = {ticker: i for i, ticker in enumerate(tickers)}\n",
    "sorted_columns = sorted(corr_matrix.columns, key=lambda x: (x not in tickers, ticker_order.get(x, float('inf'))))\n",
    "\n",
    "# Create a custom colormap with medium green for positive correlations\n",
    "colors = [(0.0, 'red'), (0.5, 'white'), (1.0, 'mediumseagreen')]  # Green at 1.0\n",
    "cmap = mcolors.LinearSegmentedColormap.from_list('custom_cmap', colors)\n",
    "\n",
    "# Plot Heatmap with custom colormap\n",
    "sns.heatmap(corr_matrix[sorted_columns].loc[sorted_columns], annot=True, cmap=cmap)\n",
    "plt.title(\"Correlation Matrix\")\n",
    "plt.show()\n"
   ]
  },
  {
   "cell_type": "code",
   "execution_count": null,
   "id": "de4542ae",
   "metadata": {},
   "outputs": [],
   "source": []
  }
 ],
 "metadata": {
  "kernelspec": {
   "display_name": "Python 3 (ipykernel)",
   "language": "python",
   "name": "python3"
  },
  "language_info": {
   "codemirror_mode": {
    "name": "ipython",
    "version": 3
   },
   "file_extension": ".py",
   "mimetype": "text/x-python",
   "name": "python",
   "nbconvert_exporter": "python",
   "pygments_lexer": "ipython3",
   "version": "3.11.3"
  }
 },
 "nbformat": 4,
 "nbformat_minor": 5
}
